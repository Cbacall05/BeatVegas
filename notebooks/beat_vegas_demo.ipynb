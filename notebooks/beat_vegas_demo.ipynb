{
 "cells": [
  {
   "cell_type": "markdown",
   "id": "4fa732eb",
   "metadata": {},
   "source": [
    "# Project Beat Vegas Demo\n",
    "\n",
    "This notebook walks through the end-to-end workflow for Project Beat Vegas — fetching NFL data, engineering features, training baseline models, and visualizing outputs."
   ]
  },
  {
   "cell_type": "markdown",
   "id": "624bc31a",
   "metadata": {},
   "source": [
    "## Setup\n",
    "\n",
    "Install dependencies (run in a terminal) and authenticate to any data sources if needed:\n",
    "\n",
    "```bash\n",
    "pip install -r requirements.txt\n",
    "```\n",
    "\n",
    "Set the NFL data cache directory to avoid repeated downloads."
   ]
  },
  {
   "cell_type": "code",
   "execution_count": null,
   "id": "b9e6ae4f",
   "metadata": {},
   "outputs": [],
   "source": [
    "from pathlib import Path\n",
    "import logging\n",
    "\n",
    "import pandas as pd\n",
    "\n",
    "from beat_vegas import data_load, features, pipeline, visuals\n",
    "\n",
    "logging.basicConfig(level=logging.INFO, format='%(asctime)s %(levelname)s: %(message)s')\n",
    "\n",
    "SEASONS = [2021, 2022]\n",
    "VALIDATION_SEASON = 2023\n",
    "CACHE_DIR = Path('data/pbp')\n",
    "CACHE_DIR.mkdir(parents=True, exist_ok=True)"
   ]
  },
  {
   "cell_type": "code",
   "execution_count": null,
   "id": "9c91a0d5",
   "metadata": {},
   "outputs": [],
   "source": [
    "datasets = pipeline.load_core_datasets(SEASONS, cache_dir=CACHE_DIR)\n",
    "feature_config = features.FeatureConfig()\n",
    "model_df = pipeline.build_model_ready_frame(datasets['weekly'], datasets['schedule'], feature_config)\n",
    "model_df = model_df.sort_values(['season', 'week']).head(200)\n",
    "feature_cols = pipeline.default_feature_columns(model_df)\n",
    "results = pipeline.train_baseline_models(model_df, feature_cols, validation_seasons=[VALIDATION_SEASON])\n",
    "moneyline_preds = results['moneyline'][0].predictions\n",
    "total_preds = results['totals'][0].predictions\n",
    "market_totals = datasets['schedule'][datasets['schedule']['season'] == VALIDATION_SEASON][['game_id', 'total_line']].rename(columns={'total_line': 'market_total'})\n",
    "visuals.plot_win_probability_distribution(moneyline_preds)\n",
    "visuals.plot_total_points_distribution(total_preds)\n",
    "visuals.plot_model_vs_market(total_preds, market_totals)"
   ]
  }
 ],
 "metadata": {
  "language_info": {
   "name": "python"
  }
 },
 "nbformat": 4,
 "nbformat_minor": 5
}
